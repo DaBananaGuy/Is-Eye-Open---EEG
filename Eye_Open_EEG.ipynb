{
  "nbformat": 4,
  "nbformat_minor": 0,
  "metadata": {
    "colab": {
      "name": "Eye Open - EEG.ipynb",
      "version": "0.3.2",
      "provenance": [],
      "collapsed_sections": []
    },
    "kernelspec": {
      "name": "python3",
      "display_name": "Python 3"
    },
    "accelerator": "GPU"
  },
  "cells": [
    {
      "metadata": {
        "id": "1LR4Gi5Nn56j",
        "colab_type": "text"
      },
      "cell_type": "markdown",
      "source": [
        "First, install OpenML, a library that provides access to the datasets on https://www.openml.org. You also need scale to make all the measurements have equal importance."
      ]
    },
    {
      "metadata": {
        "id": "-ZDEkwZekwKH",
        "colab_type": "code",
        "colab": {}
      },
      "cell_type": "code",
      "source": [
        "!pip install openml"
      ],
      "execution_count": 0,
      "outputs": []
    },
    {
      "metadata": {
        "id": "4uL3QkbVoDdm",
        "colab_type": "text"
      },
      "cell_type": "markdown",
      "source": [
        "Next, import `openml`. You also import `train_test_split` for splitting up the data into training and testing data. Also import `TPOTClassifier` from TPOT."
      ]
    },
    {
      "metadata": {
        "id": "ydMq3Lffk2HK",
        "colab_type": "code",
        "colab": {}
      },
      "cell_type": "code",
      "source": [
        "import openml as oml\n",
        "from sklearn.preprocessing import scale\n",
        "from sklearn.model_selection import train_test_split\n",
        "from sklearn.ensemble import ExtraTreesClassifier"
      ],
      "execution_count": 0,
      "outputs": []
    },
    {
      "metadata": {
        "id": "oSq_SP-OoOHD",
        "colab_type": "text"
      },
      "cell_type": "markdown",
      "source": [
        "Next, load in the dataset from OpenML and split it into training and testing data."
      ]
    },
    {
      "metadata": {
        "id": "iuKp9of0k8oN",
        "colab_type": "code",
        "outputId": "187b62f7-e8e2-4ba8-c06f-7e8dc20f1100",
        "colab": {
          "base_uri": "https://localhost:8080/",
          "height": 156
        }
      },
      "cell_type": "code",
      "source": [
        "dataset = oml.datasets.get_dataset(1471)\n",
        "\n",
        "x, y, attribute_names = dataset.get_data(\n",
        "    target=dataset.default_target_attribute,\n",
        "    return_attribute_names=True,\n",
        ")\n",
        "\n",
        "x = scale(x)\n",
        "\n",
        "xtrain,xtest,ytrain,ytest = train_test_split(x,y,test_size=0.05, random_state=42)\n",
        "\n",
        "print(x[0])"
      ],
      "execution_count": 3,
      "outputs": [
        {
          "output_type": "stream",
          "text": [
            "[ 0.00293428 -0.01170463  0.5673981  -0.00320852  0.24522924 -0.01978755\n",
            " -0.00292999  0.85256034  0.00150875  0.18774854  0.23350398  0.03073905\n",
            "  0.01712658 -0.00383388]\n"
          ],
          "name": "stdout"
        },
        {
          "output_type": "stream",
          "text": [
            "/usr/local/lib/python3.6/dist-packages/sklearn/preprocessing/data.py:164: UserWarning: Numerical issues were encountered when centering the data and might not be solved. Dataset may contain too large values. You may need to prescale your features.\n",
            "  warnings.warn(\"Numerical issues were encountered \"\n",
            "/usr/local/lib/python3.6/dist-packages/sklearn/preprocessing/data.py:181: UserWarning: Numerical issues were encountered when scaling the data and might not be solved. The standard deviation of the data is probably very close to 0. \n",
            "  warnings.warn(\"Numerical issues were encountered \"\n"
          ],
          "name": "stderr"
        }
      ]
    },
    {
      "metadata": {
        "id": "VyItFgYVoUnM",
        "colab_type": "text"
      },
      "cell_type": "markdown",
      "source": [
        "Now initialize the classifier and fit it to the data."
      ]
    },
    {
      "metadata": {
        "id": "okjB7MHplFy5",
        "colab_type": "code",
        "outputId": "73587c14-2ffd-4746-c287-6f0991d588d1",
        "colab": {
          "base_uri": "https://localhost:8080/",
          "height": 119
        }
      },
      "cell_type": "code",
      "source": [
        "clf = ExtraTreesClassifier(min_samples_split=4,random_state=42,n_estimators=100)\n",
        "clf.fit(xtrain,ytrain)"
      ],
      "execution_count": 4,
      "outputs": [
        {
          "output_type": "execute_result",
          "data": {
            "text/plain": [
              "ExtraTreesClassifier(bootstrap=False, class_weight=None, criterion='gini',\n",
              "           max_depth=None, max_features='auto', max_leaf_nodes=None,\n",
              "           min_impurity_decrease=0.0, min_impurity_split=None,\n",
              "           min_samples_leaf=1, min_samples_split=4,\n",
              "           min_weight_fraction_leaf=0.0, n_estimators=100, n_jobs=1,\n",
              "           oob_score=False, random_state=42, verbose=0, warm_start=False)"
            ]
          },
          "metadata": {
            "tags": []
          },
          "execution_count": 4
        }
      ]
    },
    {
      "metadata": {
        "id": "RifA8YOQoZ0Z",
        "colab_type": "text"
      },
      "cell_type": "markdown",
      "source": [
        "As you can see we achieved an accuracy of 100% with minimal overfitting (it tested 100%). "
      ]
    },
    {
      "metadata": {
        "id": "0TPrd7IplHA1",
        "colab_type": "code",
        "outputId": "e47251d0-a961-4516-e0f7-5aba5e75ff2a",
        "colab": {
          "base_uri": "https://localhost:8080/",
          "height": 34
        }
      },
      "cell_type": "code",
      "source": [
        "print(clf.score(xtest,ytest))"
      ],
      "execution_count": 5,
      "outputs": [
        {
          "output_type": "stream",
          "text": [
            "0.9546061415220294\n"
          ],
          "name": "stdout"
        }
      ]
    }
  ]
}